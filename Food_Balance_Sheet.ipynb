{
  "nbformat": 4,
  "nbformat_minor": 0,
  "metadata": {
    "colab": {
      "name": "Food Balance Sheet",
      "provenance": [],
      "mount_file_id": "1B7eCv4u04IrkD70ThZZxiPTZobwd1FFR",
      "authorship_tag": "ABX9TyNhbrBgDLRUqKrJrjbxwuSI"
    },
    "kernelspec": {
      "name": "python3",
      "display_name": "Python 3"
    },
    "language_info": {
      "name": "python"
    }
  },
  "cells": [
    {
      "cell_type": "markdown",
      "source": [
        " **1. Mount the google colab on my google drive**"
      ],
      "metadata": {
        "id": "hGqoq9Xtq2P8"
      }
    },
    {
      "cell_type": "code",
      "source": [
        "from google.colab import drive\n",
        "drive.mount('/content/drive')"
      ],
      "metadata": {
        "colab": {
          "base_uri": "https://localhost:8080/"
        },
        "id": "QSCbj2l0q0VW",
        "outputId": "d62a6fa3-2f20-4b33-a509-99266cc0e1e4"
      },
      "execution_count": 5,
      "outputs": [
        {
          "output_type": "stream",
          "name": "stdout",
          "text": [
            "Drive already mounted at /content/drive; to attempt to forcibly remount, call drive.mount(\"/content/drive\", force_remount=True).\n"
          ]
        }
      ]
    },
    {
      "cell_type": "markdown",
      "source": [
        "**2. Mount to the folder that has the data**"
      ],
      "metadata": {
        "id": "So_j-L5YrNL3"
      }
    },
    {
      "cell_type": "code",
      "source": [
        "%cd '//content/drive/MyDrive/HamoyeAI_Food Balance Sheet'"
      ],
      "metadata": {
        "colab": {
          "base_uri": "https://localhost:8080/"
        },
        "id": "YwhOkEEfrWZ_",
        "outputId": "81d616ac-aa4d-4514-ca86-d34c85512d89"
      },
      "execution_count": 6,
      "outputs": [
        {
          "output_type": "stream",
          "name": "stdout",
          "text": [
            "/content/drive/MyDrive/HamoyeAI_Food Balance Sheet\n"
          ]
        }
      ]
    },
    {
      "cell_type": "markdown",
      "source": [
        "**3. Importing Pandas**"
      ],
      "metadata": {
        "id": "QnQqrud6roW5"
      }
    },
    {
      "cell_type": "code",
      "execution_count": 7,
      "metadata": {
        "id": "a7MLYk2YnsDa"
      },
      "outputs": [],
      "source": [
        "import pandas as pd"
      ]
    },
    {
      "cell_type": "markdown",
      "source": [
        "**4. Reading the csv file**"
      ],
      "metadata": {
        "id": "Rq095Db7rtTd"
      }
    },
    {
      "cell_type": "code",
      "source": [
        "df_foodsheets= pd.read_csv('FoodBalanceSheets_E_Africa_NOFLAG.csv', encoding='latin-1')"
      ],
      "metadata": {
        "id": "TSkIruRRoMHQ"
      },
      "execution_count": 11,
      "outputs": []
    },
    {
      "cell_type": "markdown",
      "source": [
        "**5. Seeing the First Line of Code**"
      ],
      "metadata": {
        "id": "2vO79R_9ucxq"
      }
    },
    {
      "cell_type": "code",
      "source": [
        "print(df_foodsheets.head())"
      ],
      "metadata": {
        "colab": {
          "base_uri": "https://localhost:8080/"
        },
        "id": "nHojUnkhucXB",
        "outputId": "7b7a71ac-5dbf-443c-9f6c-f384e71e1376"
      },
      "execution_count": 12,
      "outputs": [
        {
          "output_type": "stream",
          "name": "stdout",
          "text": [
            "   Area Code     Area  Item Code         Item  Element Code  \\\n",
            "0          4  Algeria       2501   Population           511   \n",
            "1          4  Algeria       2501   Population          5301   \n",
            "2          4  Algeria       2901  Grand Total           664   \n",
            "3          4  Algeria       2901  Grand Total           674   \n",
            "4          4  Algeria       2901  Grand Total           684   \n",
            "\n",
            "                                  Element             Unit     Y2014  \\\n",
            "0           Total Population - Both sexes     1000 persons  38924.00   \n",
            "1                Domestic supply quantity      1000 tonnes      0.00   \n",
            "2           Food supply (kcal/capita/day)  kcal/capita/day   3377.00   \n",
            "3  Protein supply quantity (g/capita/day)     g/capita/day     94.90   \n",
            "4      Fat supply quantity (g/capita/day)     g/capita/day     80.06   \n",
            "\n",
            "      Y2015     Y2016     Y2017     Y2018  \n",
            "0  39728.00  40551.00  41389.00  42228.00  \n",
            "1      0.00      0.00      0.00      0.00  \n",
            "2   3379.00   3372.00   3341.00   3322.00  \n",
            "3     94.35     94.72     92.82     91.83  \n",
            "4     79.36     77.40     80.19     77.28  \n"
          ]
        }
      ]
    }
  ]
}